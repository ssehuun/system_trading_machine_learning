{
 "cells": [
  {
   "cell_type": "markdown",
   "metadata": {},
   "source": [
    "# CH3"
   ]
  },
  {
   "cell_type": "markdown",
   "metadata": {},
   "source": [
    "## 시계열 데이터 분석의 대표적인 목적\n",
    "\n",
    "시계열 데이터 패턴에 영향을 미치는 요소(Feature)를 찾는다.  \n",
    "과거의 데이터가 어떻게 미래의 데이터에 영향을 미치는지를 분석한다.  \n",
    "미래의 데이터를 예측한다."
   ]
  },
  {
   "cell_type": "markdown",
   "metadata": {},
   "source": [
    "## 기억해야 할 시계열 데이터의 특성\n",
    "Trend 측정값이 시간의 흐름에 따라 증가나 감소 또는 반복 등의 일정한 패턴이나 경향을 가지고 있는가?  \n",
    "Seasonality 일, 월, 년 계절 등 일정 시간에 따라 지속해서 반복되는 패턴이 있는가?  \n",
    "Outliers 다른 값들과 동떨어진 이상치를 관측할 수 있는가?  \n",
    "Long-run Cycle 계절성과는 별도로 오랜 기간 반복되는 패턴이 있는가?  \n",
    "Constant Variance 측정값이 일정한 수준 이내로 변동되는가 아니면 변동이 무작위로 발생하는가?  \n",
    "Abrupt Change 급격한 변동을 보이는 데이터가 있는가?  "
   ]
  },
  {
   "cell_type": "markdown",
   "metadata": {},
   "source": [
    "## 랜덤과정\n",
    "랜덤과정(Stochastic Process, Random Process)은 확률변수가 시간의 흐름에 따라 변화한 값들을 일컫는다.  \n",
    "랜덤과정을 시간의 흐름에 따른 확률분포라고도 생각할 수 있다.  \n",
    "랜덤과정의 반대 개념은 결정적 과정(Deterministic Process)으로, 시간의 흐름에 따른 값의 변화가 일정한 값을 갖는다.  "
   ]
  },
  {
   "cell_type": "markdown",
   "metadata": {},
   "source": [
    "## 정상 시계열 데이터\n",
    "정상성(Stationarity)은 평균과 분산 같은 통계적 특성이 시간에 대해 일정한 성질을 의미한다.  \n",
    "이런한 특성이 있는 랜덤과정을 정상과정이라고 한다. "
   ]
  },
  {
   "cell_type": "markdown",
   "metadata": {},
   "source": [
    "### 약한 정상성\n",
    "정상성에는 약한 정상성(Weak-sense Stationarity)과 강한 정상성(Strong-sense Stationarity)이 있다.  \n",
    "약한 정상성을 정의하면  \n",
    "평균함수 m(t)와 공분산함수 r(s,t)가 시간에 대해 변하지 않는 성질을 '약한 정산성' 이라고 하고, 이러한 과정을 '약한 정상성 과정' 이라고 한다. 다음과 같은 특성을 가진다\n",
    " - 일정한 평균\n",
    " - 일정한 분산\n",
    " - 시간에 독립적인 공분산  \n",
    " \n",
    "이 특성을 만족하려면, 어떤 랜덤과정이 있고 그 과정을 함수 f(t)라고 할 때, 시간 t1에 대해 다음과 같은 관계가 성립해야 한다.  \n",
    "f(t1) = f(t1+r)\n",
    "이 수식은 시간의 변화에 상관없이 일정한 통계적 특성을 가져야만 성립할 수 있다."
   ]
  },
  {
   "cell_type": "code",
   "execution_count": null,
   "metadata": {},
   "outputs": [],
   "source": [
    "#-*- coding: utf-8 -*-\n",
    "import os,sys,datetime\n",
    "import numpy as np\n",
    "import pandas as pd\n",
    "from pandas_datareader import data as web\n",
    "import matplotlib.pyplot as plt\n",
    "from pandas.compat import range, lrange, lmap, map, zip\n",
    "from pandas.plotting import scatter_matrix, autocorrelation_plot\n",
    "\n",
    "parentPath = os.path.abspath(\"..\")\n",
    "if parentPath not in sys.path:\n",
    "    sys.path.insert(0, parentPath)\n",
    "\n",
    "from common import *\n",
    "\n",
    "\n",
    "def get_autocorrelation_dataframe(series):\n",
    "    def r(h):\n",
    "        return ((data[:n - h] - mean) * (data[h:] - mean)).sum() / float(n) / c0\n",
    "\n",
    "    n = len(series)\n",
    "    data = np.asarray(series)\n",
    "\n",
    "    mean = np.mean(data)\n",
    "    c0 = np.sum((data - mean) ** 2) / float(n)\n",
    "\n",
    "    x = np.arange(n) + 1\n",
    "    y = lmap(r, x)\n",
    "\n",
    "    df = pd.DataFrame(y, index=x)\n",
    "\n",
    "    return df\n",
    "\n",
    "\n",
    "df_samsung = load_stock_data('samsung.data')\n",
    "df_samsung_corr = get_autocorrelation_dataframe(df_samsung['Close'])\n",
    "\n",
    "print(df_samsung_corr)\n",
    "#for i in range(df_samsung.shape[0]):\n",
    "#\tarr = df_samsung['Close'].autocorr(lag=i)\n",
    "#\tprint \"%s, %s\" % (i,arr)\n",
    "\n",
    "#df_samsung_corr = pd.DataFrame(arr,index=arr,columns=arr)\n",
    "\n",
    "#df_hanmi = load_stock_data('hanmi.data')\n",
    "\n",
    "#print df_samsung['Close'].cov(df_hanmi['Close'])\n",
    "\n",
    "#print df_samsung['Close'].corr(df_hanmi['Close'])\n",
    "\n",
    "fig, axs = plt.subplots(2,1)\n",
    "axs[1].xaxis.set_visible(False) \n",
    "\n",
    "df_samsung['Close'].plot(ax=axs[0])\n",
    "df_samsung_corr[0].plot(kind='bar',ax=axs[1])\n",
    "#autocorrelation_plot(df_samsung['Close'],ax=axs[1], kind='box')\n",
    "\n",
    "plt.show()"
   ]
  }
 ],
 "metadata": {
  "kernelspec": {
   "display_name": "Python 3",
   "language": "python",
   "name": "python3"
  },
  "language_info": {
   "codemirror_mode": {
    "name": "ipython",
    "version": 3
   },
   "file_extension": ".py",
   "mimetype": "text/x-python",
   "name": "python",
   "nbconvert_exporter": "python",
   "pygments_lexer": "ipython3",
   "version": "3.7.3"
  }
 },
 "nbformat": 4,
 "nbformat_minor": 2
}
