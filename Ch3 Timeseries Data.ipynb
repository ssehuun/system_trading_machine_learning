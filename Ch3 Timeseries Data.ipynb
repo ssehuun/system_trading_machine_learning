{
 "cells": [
  {
   "cell_type": "markdown",
   "metadata": {},
   "source": [
    "# CH3"
   ]
  },
  {
   "cell_type": "code",
   "execution_count": null,
   "metadata": {},
   "outputs": [],
   "source": [
    "#-*- coding: utf-8 -*-\n",
    "import os,sys,datetime\n",
    "import numpy as np\n",
    "import pandas as pd\n",
    "from pandas_datareader import data as web\n",
    "import matplotlib.pyplot as plt\n",
    "from pandas.compat import range, lrange, lmap, map, zip\n",
    "from pandas.plotting import scatter_matrix, autocorrelation_plot\n",
    "\n",
    "parentPath = os.path.abspath(\"..\")\n",
    "if parentPath not in sys.path:\n",
    "    sys.path.insert(0, parentPath)\n",
    "\n",
    "from common import *\n",
    "\n",
    "\n",
    "def get_autocorrelation_dataframe(series):\n",
    "    def r(h):\n",
    "        return ((data[:n - h] - mean) * (data[h:] - mean)).sum() / float(n) / c0\n",
    "\n",
    "    n = len(series)\n",
    "    data = np.asarray(series)\n",
    "\n",
    "    mean = np.mean(data)\n",
    "    c0 = np.sum((data - mean) ** 2) / float(n)\n",
    "\n",
    "    x = np.arange(n) + 1\n",
    "    y = lmap(r, x)\n",
    "\n",
    "    df = pd.DataFrame(y, index=x)\n",
    "\n",
    "    return df\n",
    "\n",
    "\n",
    "df_samsung = load_stock_data('samsung.data')\n",
    "df_samsung_corr = get_autocorrelation_dataframe(df_samsung['Close'])\n",
    "\n",
    "print(df_samsung_corr)\n",
    "#for i in range(df_samsung.shape[0]):\n",
    "#\tarr = df_samsung['Close'].autocorr(lag=i)\n",
    "#\tprint \"%s, %s\" % (i,arr)\n",
    "\n",
    "#df_samsung_corr = pd.DataFrame(arr,index=arr,columns=arr)\n",
    "\n",
    "#df_hanmi = load_stock_data('hanmi.data')\n",
    "\n",
    "#print df_samsung['Close'].cov(df_hanmi['Close'])\n",
    "\n",
    "#print df_samsung['Close'].corr(df_hanmi['Close'])\n",
    "\n",
    "fig, axs = plt.subplots(2,1)\n",
    "axs[1].xaxis.set_visible(False) \n",
    "\n",
    "df_samsung['Close'].plot(ax=axs[0])\n",
    "df_samsung_corr[0].plot(kind='bar',ax=axs[1])\n",
    "#autocorrelation_plot(df_samsung['Close'],ax=axs[1], kind='box')\n",
    "\n",
    "plt.show()"
   ]
  }
 ],
 "metadata": {
  "kernelspec": {
   "display_name": "Python 3",
   "language": "python",
   "name": "python3"
  },
  "language_info": {
   "codemirror_mode": {
    "name": "ipython",
    "version": 3
   },
   "file_extension": ".py",
   "mimetype": "text/x-python",
   "name": "python",
   "nbconvert_exporter": "python",
   "pygments_lexer": "ipython3",
   "version": "3.7.3"
  }
 },
 "nbformat": 4,
 "nbformat_minor": 2
}
